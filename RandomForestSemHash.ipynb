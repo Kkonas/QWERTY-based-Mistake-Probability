{
 "cells": [
  {
   "cell_type": "code",
   "execution_count": 1,
   "metadata": {},
   "outputs": [],
   "source": [
    "%matplotlib inline"
   ]
  },
  {
   "cell_type": "code",
   "execution_count": 2,
   "metadata": {},
   "outputs": [],
   "source": [
    "from __future__ import unicode_literals\n",
    "import re\n",
    "import os\n",
    "import codecs\n",
    "import json\n",
    "import csv\n",
    "import spacy\n",
    "import sklearn\n",
    "import numpy as np\n",
    "import matplotlib.pyplot as plt\n",
    "from sklearn import model_selection\n",
    "from time import time\n",
    "from sklearn.feature_extraction.text import TfidfVectorizer, HashingVectorizer, CountVectorizer\n",
    "from sklearn.feature_selection import SelectFromModel, SelectKBest, chi2\n",
    "from sklearn.model_selection import StratifiedShuffleSplit\n",
    "from sklearn.neighbors.nearest_centroid import NearestCentroid"
   ]
  },
  {
   "cell_type": "code",
   "execution_count": 3,
   "metadata": {},
   "outputs": [],
   "source": [
    "nlp=spacy.load('en')"
   ]
  },
  {
   "cell_type": "code",
   "execution_count": 4,
   "metadata": {},
   "outputs": [],
   "source": [
    "intent_dict_AskUbuntu = {\"Make Update\":0, \"Setup Printer\":1, \"Shutdown Computer\":2, \"Software Recommendation\":3, \"None\":4}\n",
    "intent_dict_Chatbot = {\"DepartureTime\":0, \"FindConnection\":1}\n",
    "intent_dict_WebApplications = {\"Download Video\":0, \"Change Password\":1, \"None\":2, \"Export Data\":3, \"Sync Accounts\":4,\n",
    "                  \"Filter Spam\":5, \"Find Alternative\":6, \"Delete Account\":7}"
   ]
  },
  {
   "cell_type": "code",
   "execution_count": 5,
   "metadata": {},
   "outputs": [],
   "source": [
    "benchmark_dataset = 'WebApplication' #choose from 'AskUbuntu', 'Chatbot' or 'WebApplications'"
   ]
  },
  {
   "cell_type": "code",
   "execution_count": 6,
   "metadata": {},
   "outputs": [],
   "source": [
    "filename_train = \"datasets/KL/\" + benchmark_dataset + \"/train.csv\"\n",
    "filename_test = \"datasets/KL/\" + benchmark_dataset + \"/test.csv\""
   ]
  },
  {
   "cell_type": "code",
   "execution_count": 7,
   "metadata": {},
   "outputs": [],
   "source": [
    "def read_CSV_datafile(filename):    \n",
    "    X = []\n",
    "    y = []\n",
    "    with open(filename, 'r') as csvfile:\n",
    "        reader = csv.reader(csvfile, delimiter='\\t')\n",
    "        for row in reader:\n",
    "            X.append(row[0])\n",
    "            if benchmark_dataset == 'AskUbuntu':\n",
    "                y.append(intent_dict_AskUbuntu[row[1]])\n",
    "            elif benchmark_dataset == 'Chatbot':\n",
    "                y.append(intent_dict_Chatbot[row[1]])\n",
    "            else:\n",
    "                y.append(intent_dict_WebApplications[row[1]])           \n",
    "    return X,y"
   ]
  },
  {
   "cell_type": "code",
   "execution_count": 8,
   "metadata": {},
   "outputs": [],
   "source": [
    "X_train_raw, y_train_raw = read_CSV_datafile(filename = filename_train)\n",
    "X_test_raw, y_test_raw = read_CSV_datafile(filename = filename_test)"
   ]
  },
  {
   "cell_type": "code",
   "execution_count": 9,
   "metadata": {},
   "outputs": [
    {
     "name": "stdout",
     "output_type": "stream",
     "text": [
      "Training data samples: \n",
      " ['hoc to disable/delete a harvest account?', 'how tz disable/delete a harvest account?', 'how to disable/delete a harvekt account?', 'how to wisable/delete a harvest account?'] \n",
      "\n",
      "\n",
      "Class Labels: \n",
      " [7, 7, 7, 7] \n",
      "\n",
      "\n",
      "Size of Training Data: 1556\n"
     ]
    }
   ],
   "source": [
    "print(\"Training data samples: \\n\",X_train_raw[-5:-1], \"\\n\\n\")\n",
    "\n",
    "print(\"Class Labels: \\n\", y_train_raw[-5:-1], \"\\n\\n\")\n",
    "\n",
    "print(\"Size of Training Data: {}\".format(len(X_train_raw)))"
   ]
  },
  {
   "cell_type": "code",
   "execution_count": 10,
   "metadata": {},
   "outputs": [],
   "source": [
    "def tokenize(doc):\n",
    "    \"\"\"\n",
    "    Returns a list of strings containing each token in `sentence`\n",
    "    \"\"\"\n",
    "    #return [i for i in re.split(r\"([-.\\\"',:? !\\$#@~()*&\\^%;\\[\\]/\\\\\\+<>\\n=])\",\n",
    "    #                            doc) if i != '' and i != ' ' and i != '\\n']\n",
    "    tokens = []\n",
    "    doc = nlp.tokenizer(doc)\n",
    "    for token in doc:\n",
    "        tokens.append(token.text)\n",
    "    return tokens\n",
    "\n"
   ]
  },
  {
   "cell_type": "code",
   "execution_count": 11,
   "metadata": {},
   "outputs": [],
   "source": [
    "def preprocess(doc):\n",
    "    clean_tokens = []\n",
    "    doc = nlp(doc)\n",
    "    for token in doc:\n",
    "        if not token.is_stop:\n",
    "            clean_tokens.append(token.lemma_)\n",
    "    return \" \".join(clean_tokens)"
   ]
  },
  {
   "cell_type": "code",
   "execution_count": 12,
   "metadata": {},
   "outputs": [],
   "source": [
    "def find_ngrams(input_list, n):\n",
    "    return zip(*[input_list[i:] for i in range(n)])\n",
    "\n",
    "def semhash_tokenizer(text):\n",
    "    tokens = text.split(\" \")\n",
    "    final_tokens = []\n",
    "    for unhashed_token in tokens:\n",
    "        hashed_token = \"#{}#\".format(unhashed_token)\n",
    "        final_tokens += [''.join(gram)\n",
    "                         for gram in list(find_ngrams(list(hashed_token), 3))]\n",
    "    return final_tokens\n",
    "\n",
    "def semhash_corpus(corpus):\n",
    "    new_corpus = []\n",
    "    for sentence in corpus:\n",
    "        sentence = preprocess(sentence)\n",
    "        tokens = semhash_tokenizer(sentence)\n",
    "        new_corpus.append(\" \".join(map(str,tokens)))\n",
    "    return new_corpus\n",
    "\n",
    "X_train_raw = semhash_corpus(X_train_raw)\n",
    "X_test_raw = semhash_corpus(X_test_raw)"
   ]
  },
  {
   "cell_type": "code",
   "execution_count": 13,
   "metadata": {},
   "outputs": [
    {
     "data": {
      "text/plain": [
       "['#do dow own wnl nlh lha had ad# #xo xou out utu tub ube be# #vi vid ide deo eo# #?#',\n",
       " '#do dow own wnl nlo loa oad ad# #yh yhu hut utu tub ube be# #vi vid ide deo eo# #?#',\n",
       " '#d# #do dow own wnl nlo loa oad ad# #yo you out utu tub ubi bi# #vi vid ide deo eo# #?#',\n",
       " '#vo vo# #do dow own wnl nlo loa oad ad# #yo you out utu tub ube be# #vi vid ide deo eo# #?#',\n",
       " '#do dow own wnl nlo loa oad ad# #yo you out utu tui uie ie# #vi vid ide deo eo# #?#']"
      ]
     },
     "execution_count": 13,
     "metadata": {},
     "output_type": "execute_result"
    }
   ],
   "source": [
    "X_train_raw[:5]"
   ]
  },
  {
   "cell_type": "code",
   "execution_count": 14,
   "metadata": {},
   "outputs": [],
   "source": [
    "def get_vectorizer(corpus, preprocessor=None, tokenizer=None):\n",
    "    vectorizer = CountVectorizer(ngram_range=(2,4),analyzer='char')\n",
    "    vectorizer.fit(corpus)\n",
    "    return vectorizer, vectorizer.get_feature_names()"
   ]
  },
  {
   "cell_type": "code",
   "execution_count": 26,
   "metadata": {},
   "outputs": [],
   "source": [
    "from sklearn.ensemble import RandomForestClassifier\n",
    "from sklearn.model_selection import GridSearchCV\n",
    "from sklearn import metrics\n",
    "from sklearn.neural_network import MLPClassifier"
   ]
  },
  {
   "cell_type": "code",
   "execution_count": 16,
   "metadata": {},
   "outputs": [],
   "source": [
    "def trim(s):\n",
    "    \"\"\"Trim string to fit on terminal (assuming 80-column display)\"\"\"\n",
    "    return s if len(s) <= 80 else s[:77] + \"...\"\n",
    "\n",
    "\n",
    "# #############################################################################\n",
    "# Benchmark classifiers\n",
    "def benchmark(clf, X_train, y_train, X_test, y_test, target_names,\n",
    "              print_report=True, feature_names=None, print_top10=False,\n",
    "              print_cm=True):\n",
    "    print('_' * 80)\n",
    "    print(\"Training: \")\n",
    "    print(clf)\n",
    "    t0 = time()\n",
    "    clf.fit(X_train, y_train)\n",
    "    train_time = time() - t0\n",
    "    print(\"train time: %0.3fs\" % train_time)\n",
    "\n",
    "    t0 = time()\n",
    "    pred = clf.predict(X_test)\n",
    "    test_time = time() - t0\n",
    "    print(\"test time:  %0.3fs\" % test_time)\n",
    "\n",
    "    score = metrics.accuracy_score(y_test, pred)\n",
    "    print(\"accuracy:   %0.3f\" % score)\n",
    "    #print(\"Accuracy: %0.3f (+/- %0.3f)\" % (score.mean(), score.std() * 2))\n",
    "\n",
    "    if hasattr(clf, 'coef_'):\n",
    "        print(\"dimensionality: %d\" % clf.coef_.shape[1])\n",
    "        print(\"density: %f\" % density(clf.coef_))\n",
    "\n",
    "        if print_top10 and feature_names is not None:\n",
    "            print(\"top 10 keywords per class:\")\n",
    "            for i, label in enumerate([\"Download Video\", \"Change Password\", \"None\", \"Export Data\", \"Sync Accounts\",\n",
    "                  \"Filter Spam\", \"Find Alternative\", \"Delete Account\"]):\n",
    "                top10 = np.argsort(clf.coef_[i])[-10:]\n",
    "                print(trim(\"%s: %s\" % (label, \" \".join([feature_names[i] for i in top10]))))\n",
    "        print()\n",
    "\n",
    "    if print_report:\n",
    "        print(\"classification report:\")\n",
    "        print(metrics.classification_report(y_test, pred,\n",
    "                                            target_names=target_names))\n",
    "\n",
    "    if print_cm:\n",
    "        print(\"confusion matrix:\")\n",
    "        print(metrics.confusion_matrix(y_test, pred))\n",
    "\n",
    "    print()\n",
    "    clf_descr = str(clf).split('(')[0]\n",
    "    return clf_descr, score, train_time, test_time"
   ]
  },
  {
   "cell_type": "code",
   "execution_count": 17,
   "metadata": {},
   "outputs": [],
   "source": [
    "def plot_results(results):\n",
    "    # make some plots\n",
    "    indices = np.arange(len(results))\n",
    "\n",
    "    results = [[x[i] for x in results] for i in range(4)]\n",
    "\n",
    "    clf_names, score, training_time, test_time = results\n",
    "    training_time = np.array(training_time) / np.max(training_time)\n",
    "    test_time = np.array(test_time) / np.max(test_time)\n",
    "\n",
    "    plt.figure(figsize=(12, 8))\n",
    "    plt.title(\"Score\")\n",
    "    plt.barh(indices, score, .2, label=\"score\", color='navy')\n",
    "    plt.barh(indices + .3, training_time, .2, label=\"training time\",\n",
    "             color='c')\n",
    "    plt.barh(indices + .6, test_time, .2, label=\"test time\", color='darkorange')\n",
    "    plt.yticks(())\n",
    "    plt.legend(loc='best')\n",
    "    plt.subplots_adjust(left=.25)\n",
    "    plt.subplots_adjust(top=.95)\n",
    "    plt.subplots_adjust(bottom=.05)\n",
    "\n",
    "    for i, c in zip(indices, clf_names):\n",
    "        plt.text(-.3, i, c)\n",
    "    plt.savefig(\"./results_AskUbuntu.png\", format=\"png\")\n",
    "    plt.show()"
   ]
  },
  {
   "cell_type": "code",
   "execution_count": 18,
   "metadata": {},
   "outputs": [],
   "source": [
    "def data_for_training():\n",
    "    vectorizer, feature_names = get_vectorizer(X_train_raw, preprocessor=preprocess, tokenizer=tokenize)\n",
    "    \n",
    "    X_train = vectorizer.transform(X_train_raw).toarray()\n",
    "    X_test = vectorizer.transform(X_test_raw).toarray()\n",
    "            \n",
    "    return X_train, y_train_raw, X_test, y_test_raw, feature_names"
   ]
  },
  {
   "cell_type": "code",
   "execution_count": 23,
   "metadata": {},
   "outputs": [
    {
     "name": "stdout",
     "output_type": "stream",
     "text": [
      "Evaluating Split 0\n",
      "Train Size: 1556\n",
      "Test Size: 59\n",
      "================================================================================\n",
      "gridsearchRF\n",
      "________________________________________________________________________________\n",
      "Training: \n",
      "GridSearchCV(cv=5, error_score='raise',\n",
      "       estimator=RandomForestClassifier(bootstrap=True, class_weight=None, criterion='gini',\n",
      "            max_depth=None, max_features='auto', max_leaf_nodes=None,\n",
      "            min_impurity_decrease=0.0, min_impurity_split=None,\n",
      "            min_samples_leaf=1, min_samples_split=2,\n",
      "            min_weight_fraction_leaf=0.0, n_estimators=10, n_jobs=1,\n",
      "            oob_score=False, random_state=None, verbose=0,\n",
      "            warm_start=False),\n",
      "       fit_params=None, iid=True, n_jobs=1,\n",
      "       param_grid={'n_estimators': [10, 20, 40, 50, 100, 70], 'min_samples_leaf': [1, 3, 5, 11, 25], 'max_features': [0.5, 1]},\n",
      "       pre_dispatch='2*n_jobs', refit=True, return_train_score=True,\n",
      "       scoring=None, verbose=0)\n",
      "train time: 987.637s\n",
      "test time:  0.005s\n",
      "accuracy:   0.763\n",
      "classification report:\n",
      "                  precision    recall  f1-score   support\n",
      "\n",
      "  Download Video       0.00      0.00      0.00         0\n",
      " Change Password       1.00      1.00      1.00         6\n",
      "            None       0.00      0.00      0.00         4\n",
      "     Export Data       1.00      0.33      0.50         3\n",
      "   Sync Accounts       1.00      0.50      0.67         6\n",
      "     Filter Spam       0.91      0.71      0.80        14\n",
      "Find Alternative       0.83      0.94      0.88        16\n",
      "  Delete Account       0.53      1.00      0.69        10\n",
      "\n",
      "     avg / total       0.79      0.76      0.74        59\n",
      "\n",
      "confusion matrix:\n",
      "[[ 0  0  0  0  0  0  0  0]\n",
      " [ 0  6  0  0  0  0  0  0]\n",
      " [ 1  0  0  0  0  1  0  2]\n",
      " [ 0  0  0  1  0  0  1  1]\n",
      " [ 0  0  0  0  3  0  1  2]\n",
      " [ 0  0  0  0  0 10  1  3]\n",
      " [ 0  0  0  0  0  0 15  1]\n",
      " [ 0  0  0  0  0  0  0 10]]\n",
      "\n"
     ]
    },
    {
     "name": "stderr",
     "output_type": "stream",
     "text": [
      "/home/insideout/anaconda3/lib/python3.6/site-packages/sklearn/metrics/classification.py:1135: UndefinedMetricWarning: Precision and F-score are ill-defined and being set to 0.0 in labels with no predicted samples.\n",
      "  'precision', 'predicted', average, warn_for)\n",
      "/home/insideout/anaconda3/lib/python3.6/site-packages/sklearn/metrics/classification.py:1137: UndefinedMetricWarning: Recall and F-score are ill-defined and being set to 0.0 in labels with no true samples.\n",
      "  'recall', 'true', average, warn_for)\n"
     ]
    },
    {
     "data": {
      "image/png": "[encoded data removed]",
      "text/plain": [
       "<matplotlib.figure.Figure at 0x7f7f15c82ba8>"
      ]
     },
     "metadata": {},
     "output_type": "display_data"
    }
   ],
   "source": [
    "import matplotlib.pyplot as plt\n",
    "for i_s, split in enumerate(range(1)):\n",
    "    print(\"Evaluating Split {}\".format(i_s))\n",
    "    X_train, y_train, X_test, y_test, feature_names = data_for_training()\n",
    "    #target_names = [\"DepartureTime\",\"FindConnection\"]\n",
    "    target_names = [\"Download Video\", \"Change Password\", \"None\", \"Export Data\", \"Sync Accounts\",\n",
    "                  \"Filter Spam\", \"Find Alternative\", \"Delete Account\"]\n",
    "    print(\"Train Size: {}\\nTest Size: {}\".format(X_train.shape[0], X_test.shape[0]))\n",
    "    results = []\n",
    "    \n",
    "    parameters_RF={ \"n_estimators\" : [10,20,40,50,100,70],\n",
    "           \"min_samples_leaf\" : [1,3,5,11,25],\n",
    "                  \"max_features\" : [0.5,1]}\n",
    "    \n",
    "    for clf, name in [ \n",
    "        (GridSearchCV(RandomForestClassifier(),parameters_RF, cv=5),\"gridsearchRF\")\n",
    "        ]:\n",
    "        print('=' * 80)\n",
    "        print(name)\n",
    "        results.append(benchmark(clf, X_train, y_train, X_test, y_test, target_names,\n",
    "                                 feature_names=feature_names))\n",
    "        \n",
    "        plot_results(results)"
   ]
  },
  {
   "cell_type": "code",
   "execution_count": 28,
   "metadata": {},
   "outputs": [
    {
     "name": "stdout",
     "output_type": "stream",
     "text": [
      "Evaluating Split 0\n",
      "Train Size: 1556\n",
      "Test Size: 59\n",
      "================================================================================\n",
      "gridsearchmlp\n",
      "________________________________________________________________________________\n",
      "Training: \n",
      "GridSearchCV(cv=5, error_score='raise',\n",
      "       estimator=MLPClassifier(activation='tanh', alpha=0.0001, batch_size='auto', beta_1=0.9,\n",
      "       beta_2=0.999, early_stopping=False, epsilon=1e-08,\n",
      "       hidden_layer_sizes=(100,), learning_rate='constant',\n",
      "       learning_rate_init=0.001, max_iter=200, momentum=0.9,\n",
      "       nesterovs_momentum=True, power_t=0.5, random_state=None,\n",
      "       shuffle=True, solver='adam', tol=0.0001, validation_fraction=0.1,\n",
      "       verbose=False, warm_start=False),\n",
      "       fit_params=None, iid=True, n_jobs=1,\n",
      "       param_grid={'hidden_layer_sizes': [(100, 50), (300, 100), (300, 200, 100)]},\n",
      "       pre_dispatch='2*n_jobs', refit=True, return_train_score=True,\n",
      "       scoring=None, verbose=0)\n",
      "train time: 131.982s\n",
      "test time:  0.007s\n",
      "accuracy:   0.780\n",
      "classification report:\n",
      "                  precision    recall  f1-score   support\n",
      "\n",
      "  Download Video       0.00      0.00      0.00         0\n",
      " Change Password       1.00      1.00      1.00         6\n",
      "            None       0.00      0.00      0.00         4\n",
      "     Export Data       1.00      0.33      0.50         3\n",
      "   Sync Accounts       0.80      0.67      0.73         6\n",
      "     Filter Spam       0.92      0.79      0.85        14\n",
      "Find Alternative       0.79      0.94      0.86        16\n",
      "  Delete Account       0.60      0.90      0.72        10\n",
      "\n",
      "     avg / total       0.77      0.78      0.76        59\n",
      "\n",
      "confusion matrix:\n",
      "[[ 0  0  0  0  0  0  0  0]\n",
      " [ 0  6  0  0  0  0  0  0]\n",
      " [ 1  0  0  0  0  0  1  2]\n",
      " [ 0  0  0  1  1  1  0  0]\n",
      " [ 0  0  0  0  4  0  1  1]\n",
      " [ 0  0  0  0  0 11  1  2]\n",
      " [ 0  0  0  0  0  0 15  1]\n",
      " [ 0  0  0  0  0  0  1  9]]\n",
      "\n"
     ]
    },
    {
     "name": "stderr",
     "output_type": "stream",
     "text": [
      "/home/insideout/anaconda3/lib/python3.6/site-packages/sklearn/metrics/classification.py:1135: UndefinedMetricWarning: Precision and F-score are ill-defined and being set to 0.0 in labels with no predicted samples.\n",
      "  'precision', 'predicted', average, warn_for)\n",
      "/home/insideout/anaconda3/lib/python3.6/site-packages/sklearn/metrics/classification.py:1137: UndefinedMetricWarning: Recall and F-score are ill-defined and being set to 0.0 in labels with no true samples.\n",
      "  'recall', 'true', average, warn_for)\n"
     ]
    },
    {
     "data": {
      "image/png": "[encoded data removed]",
      "text/plain": [
       "<matplotlib.figure.Figure at 0x7f7f15dfe7f0>"
      ]
     },
     "metadata": {},
     "output_type": "display_data"
    }
   ],
   "source": [
    "import matplotlib.pyplot as plt\n",
    "for i_s, split in enumerate(range(1)):\n",
    "    print(\"Evaluating Split {}\".format(i_s))\n",
    "    X_train, y_train, X_test, y_test, feature_names = data_for_training()\n",
    "    #target_names = [\"DepartureTime\",\"FindConnection\"]\n",
    "    target_names = [\"Download Video\", \"Change Password\", \"None\", \"Export Data\", \"Sync Accounts\",\n",
    "                  \"Filter Spam\", \"Find Alternative\", \"Delete Account\"]\n",
    "    print(\"Train Size: {}\\nTest Size: {}\".format(X_train.shape[0], X_test.shape[0]))\n",
    "    results = []\n",
    "    parameters_mlp={'hidden_layer_sizes':[(100,50), (300, 100),(300,200,100)]}\n",
    "    for clf, name in [\n",
    "        (GridSearchCV(MLPClassifier(activation='tanh'),parameters_mlp, cv=5),\"gridsearchmlp\")\n",
    "        ]:\n",
    "        print('=' * 80)\n",
    "        print(name)\n",
    "        results.append(benchmark(clf, X_train, y_train, X_test, y_test, target_names,\n",
    "                                 feature_names=feature_names))\n",
    "        \n",
    "        plot_results(results)\n",
    "        \n",
    "        "
   ]
  },
  {
   "cell_type": "code",
   "execution_count": null,
   "metadata": {},
   "outputs": [],
   "source": []
  }
 ],
 "metadata": {
  "kernelspec": {
   "display_name": "Python 3",
   "language": "python",
   "name": "python3"
  },
  "language_info": {
   "codemirror_mode": {
    "name": "ipython",
    "version": 3
   },
   "file_extension": ".py",
   "mimetype": "text/x-python",
   "name": "python",
   "nbconvert_exporter": "python",
   "pygments_lexer": "ipython3",
   "version": "3.6.3"
  }
 },
 "nbformat": 4,
 "nbformat_minor": 2
}
